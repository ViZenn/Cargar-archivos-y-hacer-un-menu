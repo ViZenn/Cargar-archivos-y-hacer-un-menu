{
 "cells": [
  {
   "cell_type": "code",
   "execution_count": 8,
   "metadata": {},
   "outputs": [
    {
     "name": "stdout",
     "output_type": "stream",
     "text": [
      "***BIENVENIDO AL NAVEGADOR DE ARCHIVOS PYTHON***\n",
      "***A CONTINUACION SE ABRIRÁ UNA VENTANA PARA QUE SELECCIONE EL ARCHIVO QUE DESEA CARGAR***\n",
      "***¿Qué tipo de Base de Datos desea cargar?***\n",
      "***Ingrese un número a continuación para decidir: ***\n",
      "*  1: para archivo excel xlsx  \n",
      "*  2: para archivo tipo csv  \n",
      "*  3: para archivo tipo parquet  \n",
      "*  4: para archivo tipo pickle  \n",
      "Ingrese el número: 1\n",
      "***elija su archivo***\n",
      "Su archivo se visualiza como: \n"
     ]
    },
    {
     "data": {
      "text/html": [
       "<div>\n",
       "<style scoped>\n",
       "    .dataframe tbody tr th:only-of-type {\n",
       "        vertical-align: middle;\n",
       "    }\n",
       "\n",
       "    .dataframe tbody tr th {\n",
       "        vertical-align: top;\n",
       "    }\n",
       "\n",
       "    .dataframe thead th {\n",
       "        text-align: right;\n",
       "    }\n",
       "</style>\n",
       "<table border=\"1\" class=\"dataframe\">\n",
       "  <thead>\n",
       "    <tr style=\"text-align: right;\">\n",
       "      <th></th>\n",
       "      <th>iD</th>\n",
       "      <th>Nombre</th>\n",
       "      <th>Apellido</th>\n",
       "      <th>Rut</th>\n",
       "    </tr>\n",
       "  </thead>\n",
       "  <tbody>\n",
       "    <tr>\n",
       "      <th>0</th>\n",
       "      <td>1</td>\n",
       "      <td>Benjamin</td>\n",
       "      <td>Melendez</td>\n",
       "      <td>123-1</td>\n",
       "    </tr>\n",
       "    <tr>\n",
       "      <th>1</th>\n",
       "      <td>2</td>\n",
       "      <td>Benjamin</td>\n",
       "      <td>Melendez</td>\n",
       "      <td>456-2</td>\n",
       "    </tr>\n",
       "    <tr>\n",
       "      <th>2</th>\n",
       "      <td>3</td>\n",
       "      <td>Vicente</td>\n",
       "      <td>Iturriaga</td>\n",
       "      <td>789-3</td>\n",
       "    </tr>\n",
       "  </tbody>\n",
       "</table>\n",
       "</div>"
      ],
      "text/plain": [
       "   iD    Nombre   Apellido    Rut\n",
       "0   1  Benjamin   Melendez  123-1\n",
       "1   2  Benjamin   Melendez  456-2\n",
       "2   3   Vicente  Iturriaga  789-3"
      ]
     },
     "metadata": {},
     "output_type": "display_data"
    }
   ],
   "source": [
    "import pandas as pd\n",
    "from tkinter.filedialog import askopenfilename\n",
    "\n",
    "print(\"***BIENVENIDO AL NAVEGADOR DE ARCHIVOS PYTHON***\\n***A CONTINUACION SE ABRIRÁ UNA VENTANA PARA QUE SELECCIONE EL ARCHIVO QUE DESEA CARGAR***\")\n",
    "print(\"***¿Qué tipo de Base de Datos desea cargar?***\")\n",
    "print(\"***Ingrese un número a continuación para decidir: ***\\n*  1: para archivo excel xlsx  \\n*  2: para archivo tipo csv  \\n*  3: para archivo tipo parquet  \\n*  4: para archivo tipo pickle  \")\n",
    "decision=int(input(\"Ingrese el número: \"))\n",
    "print(\"***elija su archivo***\")\n",
    "archivo = askopenfilename() # show an \"Open\" dialog box and return the path to the selected file\n",
    "if decision==1:\n",
    "    df=pd.read_excel(archivo)\n",
    "    print(\"Su archivo se visualiza como: \")\n",
    "    display(df)\n",
    "elif decision==2:\n",
    "    df=pd.read_csv(archivo)\n",
    "    print(\"Su archivo se visualiza como: \")\n",
    "    display(df)\n",
    "elif decision==3:\n",
    "    df=pd.read_parquet(archivo)\n",
    "    print(\"Su archivo se visualiza como: \")\n",
    "    display(df)\n",
    "elif decision==4:\n",
    "    df=pd.read_pickle(archivo)\n",
    "    print(\"Su archivo se visualiza como: \")\n",
    "    display(df)\n",
    "\n",
    "\n"
   ]
  },
  {
   "cell_type": "code",
   "execution_count": null,
   "metadata": {},
   "outputs": [],
   "source": []
  }
 ],
 "metadata": {
  "kernelspec": {
   "display_name": "Python 3",
   "language": "python",
   "name": "python3"
  },
  "language_info": {
   "codemirror_mode": {
    "name": "ipython",
    "version": 3
   },
   "file_extension": ".py",
   "mimetype": "text/x-python",
   "name": "python",
   "nbconvert_exporter": "python",
   "pygments_lexer": "ipython3",
   "version": "3.8.3"
  }
 },
 "nbformat": 4,
 "nbformat_minor": 4
}
